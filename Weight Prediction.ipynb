{
 "cells": [
  {
   "cell_type": "code",
   "execution_count": 50,
   "metadata": {},
   "outputs": [],
   "source": [
    "import pandas as pd\n",
    "import numpy as np\n",
    "from sklearn import linear_model"
   ]
  },
  {
   "cell_type": "code",
   "execution_count": 51,
   "metadata": {},
   "outputs": [],
   "source": [
    "df = pd.read_csv (r\"C:\\Users\\aryan\\Desktop\\WeightFinal.csv\")"
   ]
  },
  {
   "cell_type": "code",
   "execution_count": 52,
   "metadata": {},
   "outputs": [
    {
     "data": {
      "text/html": [
       "<div>\n",
       "<style scoped>\n",
       "    .dataframe tbody tr th:only-of-type {\n",
       "        vertical-align: middle;\n",
       "    }\n",
       "\n",
       "    .dataframe tbody tr th {\n",
       "        vertical-align: top;\n",
       "    }\n",
       "\n",
       "    .dataframe thead th {\n",
       "        text-align: right;\n",
       "    }\n",
       "</style>\n",
       "<table border=\"1\" class=\"dataframe\">\n",
       "  <thead>\n",
       "    <tr style=\"text-align: right;\">\n",
       "      <th></th>\n",
       "      <th>ht_cm</th>\n",
       "      <th>wt_kg</th>\n",
       "      <th>arm_mm</th>\n",
       "      <th>hl_mm</th>\n",
       "      <th>fl_mm</th>\n",
       "      <th>lel_mm</th>\n",
       "      <th>nc_mm</th>\n",
       "      <th>bust_mm</th>\n",
       "      <th>wc_mm</th>\n",
       "      <th>hw_mm</th>\n",
       "      <th>Predicted weight</th>\n",
       "    </tr>\n",
       "  </thead>\n",
       "  <tbody>\n",
       "    <tr>\n",
       "      <td>0</td>\n",
       "      <td>165.23</td>\n",
       "      <td>89.58</td>\n",
       "      <td>840.18</td>\n",
       "      <td>183.17</td>\n",
       "      <td>245.66</td>\n",
       "      <td>1002.14</td>\n",
       "      <td>350.62</td>\n",
       "      <td>867.50</td>\n",
       "      <td>755.13</td>\n",
       "      <td>559.01</td>\n",
       "      <td>71.033689</td>\n",
       "    </tr>\n",
       "    <tr>\n",
       "      <td>1</td>\n",
       "      <td>168.48</td>\n",
       "      <td>73.26</td>\n",
       "      <td>832.95</td>\n",
       "      <td>182.77</td>\n",
       "      <td>246.31</td>\n",
       "      <td>991.46</td>\n",
       "      <td>352.23</td>\n",
       "      <td>865.68</td>\n",
       "      <td>731.18</td>\n",
       "      <td>562.49</td>\n",
       "      <td>71.729343</td>\n",
       "    </tr>\n",
       "    <tr>\n",
       "      <td>2</td>\n",
       "      <td>153.95</td>\n",
       "      <td>75.32</td>\n",
       "      <td>834.79</td>\n",
       "      <td>182.26</td>\n",
       "      <td>248.52</td>\n",
       "      <td>987.39</td>\n",
       "      <td>352.20</td>\n",
       "      <td>871.73</td>\n",
       "      <td>745.00</td>\n",
       "      <td>560.03</td>\n",
       "      <td>69.776611</td>\n",
       "    </tr>\n",
       "    <tr>\n",
       "      <td>3</td>\n",
       "      <td>175.28</td>\n",
       "      <td>46.89</td>\n",
       "      <td>831.82</td>\n",
       "      <td>184.14</td>\n",
       "      <td>247.84</td>\n",
       "      <td>1004.65</td>\n",
       "      <td>353.19</td>\n",
       "      <td>873.29</td>\n",
       "      <td>749.90</td>\n",
       "      <td>560.79</td>\n",
       "      <td>70.661408</td>\n",
       "    </tr>\n",
       "    <tr>\n",
       "      <td>4</td>\n",
       "      <td>166.35</td>\n",
       "      <td>71.43</td>\n",
       "      <td>833.20</td>\n",
       "      <td>182.28</td>\n",
       "      <td>247.70</td>\n",
       "      <td>994.22</td>\n",
       "      <td>349.25</td>\n",
       "      <td>871.58</td>\n",
       "      <td>749.75</td>\n",
       "      <td>563.08</td>\n",
       "      <td>71.619774</td>\n",
       "    </tr>\n",
       "    <tr>\n",
       "      <td>...</td>\n",
       "      <td>...</td>\n",
       "      <td>...</td>\n",
       "      <td>...</td>\n",
       "      <td>...</td>\n",
       "      <td>...</td>\n",
       "      <td>...</td>\n",
       "      <td>...</td>\n",
       "      <td>...</td>\n",
       "      <td>...</td>\n",
       "      <td>...</td>\n",
       "      <td>...</td>\n",
       "    </tr>\n",
       "    <tr>\n",
       "      <td>95</td>\n",
       "      <td>174.26</td>\n",
       "      <td>80.72</td>\n",
       "      <td>832.24</td>\n",
       "      <td>183.27</td>\n",
       "      <td>247.26</td>\n",
       "      <td>1008.66</td>\n",
       "      <td>350.83</td>\n",
       "      <td>879.45</td>\n",
       "      <td>743.17</td>\n",
       "      <td>559.56</td>\n",
       "      <td>70.864659</td>\n",
       "    </tr>\n",
       "    <tr>\n",
       "      <td>96</td>\n",
       "      <td>166.93</td>\n",
       "      <td>50.88</td>\n",
       "      <td>838.18</td>\n",
       "      <td>183.43</td>\n",
       "      <td>247.05</td>\n",
       "      <td>993.86</td>\n",
       "      <td>353.13</td>\n",
       "      <td>874.94</td>\n",
       "      <td>760.93</td>\n",
       "      <td>560.02</td>\n",
       "      <td>68.280653</td>\n",
       "    </tr>\n",
       "    <tr>\n",
       "      <td>97</td>\n",
       "      <td>179.01</td>\n",
       "      <td>79.41</td>\n",
       "      <td>830.62</td>\n",
       "      <td>183.57</td>\n",
       "      <td>246.21</td>\n",
       "      <td>1012.95</td>\n",
       "      <td>350.41</td>\n",
       "      <td>858.51</td>\n",
       "      <td>760.24</td>\n",
       "      <td>557.80</td>\n",
       "      <td>78.615689</td>\n",
       "    </tr>\n",
       "    <tr>\n",
       "      <td>98</td>\n",
       "      <td>169.71</td>\n",
       "      <td>71.75</td>\n",
       "      <td>840.32</td>\n",
       "      <td>181.77</td>\n",
       "      <td>246.80</td>\n",
       "      <td>1001.01</td>\n",
       "      <td>352.00</td>\n",
       "      <td>866.78</td>\n",
       "      <td>742.49</td>\n",
       "      <td>563.04</td>\n",
       "      <td>72.210374</td>\n",
       "    </tr>\n",
       "    <tr>\n",
       "      <td>99</td>\n",
       "      <td>164.04</td>\n",
       "      <td>69.08</td>\n",
       "      <td>836.04</td>\n",
       "      <td>183.75</td>\n",
       "      <td>247.90</td>\n",
       "      <td>1003.29</td>\n",
       "      <td>350.99</td>\n",
       "      <td>877.59</td>\n",
       "      <td>745.93</td>\n",
       "      <td>557.69</td>\n",
       "      <td>68.003311</td>\n",
       "    </tr>\n",
       "  </tbody>\n",
       "</table>\n",
       "<p>100 rows × 11 columns</p>\n",
       "</div>"
      ],
      "text/plain": [
       "     ht_cm  wt_kg  arm_mm   hl_mm   fl_mm   lel_mm   nc_mm  bust_mm   wc_mm  \\\n",
       "0   165.23  89.58  840.18  183.17  245.66  1002.14  350.62   867.50  755.13   \n",
       "1   168.48  73.26  832.95  182.77  246.31   991.46  352.23   865.68  731.18   \n",
       "2   153.95  75.32  834.79  182.26  248.52   987.39  352.20   871.73  745.00   \n",
       "3   175.28  46.89  831.82  184.14  247.84  1004.65  353.19   873.29  749.90   \n",
       "4   166.35  71.43  833.20  182.28  247.70   994.22  349.25   871.58  749.75   \n",
       "..     ...    ...     ...     ...     ...      ...     ...      ...     ...   \n",
       "95  174.26  80.72  832.24  183.27  247.26  1008.66  350.83   879.45  743.17   \n",
       "96  166.93  50.88  838.18  183.43  247.05   993.86  353.13   874.94  760.93   \n",
       "97  179.01  79.41  830.62  183.57  246.21  1012.95  350.41   858.51  760.24   \n",
       "98  169.71  71.75  840.32  181.77  246.80  1001.01  352.00   866.78  742.49   \n",
       "99  164.04  69.08  836.04  183.75  247.90  1003.29  350.99   877.59  745.93   \n",
       "\n",
       "     hw_mm  Predicted weight  \n",
       "0   559.01         71.033689  \n",
       "1   562.49         71.729343  \n",
       "2   560.03         69.776611  \n",
       "3   560.79         70.661408  \n",
       "4   563.08         71.619774  \n",
       "..     ...               ...  \n",
       "95  559.56         70.864659  \n",
       "96  560.02         68.280653  \n",
       "97  557.80         78.615689  \n",
       "98  563.04         72.210374  \n",
       "99  557.69         68.003311  \n",
       "\n",
       "[100 rows x 11 columns]"
      ]
     },
     "execution_count": 52,
     "metadata": {},
     "output_type": "execute_result"
    }
   ],
   "source": [
    "df"
   ]
  },
  {
   "cell_type": "code",
   "execution_count": 53,
   "metadata": {},
   "outputs": [
    {
     "data": {
      "text/plain": [
       "LinearRegression(copy_X=True, fit_intercept=True, n_jobs=None, normalize=False)"
      ]
     },
     "execution_count": 53,
     "metadata": {},
     "output_type": "execute_result"
    }
   ],
   "source": [
    "reg = linear_model.LinearRegression()\n",
    "reg.fit(df[['ht_cm','arm_mm','hl_mm','fl_mm','lel_mm','nc_mm','bust_mm','wc_mm','hw_mm']],df.wt_kg)"
   ]
  },
  {
   "cell_type": "code",
   "execution_count": 59,
   "metadata": {},
   "outputs": [
    {
     "data": {
      "text/plain": [
       "array([ 0.02653696, -0.40647235, -1.91263881, -0.37821333,  0.14673573,\n",
       "        0.11285323, -0.25241842,  0.06113999, -0.1316833 ])"
      ]
     },
     "execution_count": 59,
     "metadata": {},
     "output_type": "execute_result"
    }
   ],
   "source": [
    "reg.coef_"
   ]
  },
  {
   "cell_type": "code",
   "execution_count": 55,
   "metadata": {},
   "outputs": [
    {
     "data": {
      "text/plain": [
       "911.207140189496"
      ]
     },
     "execution_count": 55,
     "metadata": {},
     "output_type": "execute_result"
    }
   ],
   "source": [
    "reg.intercept_"
   ]
  },
  {
   "cell_type": "code",
   "execution_count": 56,
   "metadata": {},
   "outputs": [
    {
     "data": {
      "text/plain": [
       "array([78.61569128])"
      ]
     },
     "execution_count": 56,
     "metadata": {},
     "output_type": "execute_result"
    }
   ],
   "source": [
    "reg.predict([[179.01,830.62,183.57,246.21,1012.95,350.41,858.51,760.24,557.80]])"
   ]
  },
  {
   "cell_type": "code",
   "execution_count": 57,
   "metadata": {},
   "outputs": [
    {
     "data": {
      "text/plain": [
       "<matplotlib.axes._subplots.AxesSubplot at 0x22e1af33a48>"
      ]
     },
     "execution_count": 57,
     "metadata": {},
     "output_type": "execute_result"
    },
    {
     "data": {
      "image/png": "[encoded data removed]",
      "text/plain": [
       "<Figure size 432x288 with 1 Axes>"
      ]
     },
     "metadata": {},
     "output_type": "display_data"
    }
   ],
   "source": [
    "import seaborn as sns\n",
    "\n",
    "sns.set_style('white')\n",
    "sns.set_style('ticks')\n",
    "\n",
    "sns.regplot(x='wt_kg', y='Predicted weight', data=df)"
   ]
  }
 ],
 "metadata": {
  "kernelspec": {
   "display_name": "Python 3",
   "language": "python",
   "name": "python3"
  },
  "language_info": {
   "codemirror_mode": {
    "name": "ipython",
    "version": 3
   },
   "file_extension": ".py",
   "mimetype": "text/x-python",
   "name": "python",
   "nbconvert_exporter": "python",
   "pygments_lexer": "ipython3",
   "version": "3.7.4"
  }
 },
 "nbformat": 4,
 "nbformat_minor": 2
}
